{
  "nbformat": 4,
  "nbformat_minor": 0,
  "metadata": {
    "colab": {
      "provenance": [],
      "authorship_tag": "ABX9TyPLNEbuMynBBhDvjNqAMA1d",
      "include_colab_link": true
    },
    "kernelspec": {
      "name": "python3",
      "display_name": "Python 3"
    },
    "language_info": {
      "name": "python"
    }
  },
  "cells": [
    {
      "cell_type": "markdown",
      "metadata": {
        "id": "view-in-github",
        "colab_type": "text"
      },
      "source": [
        "<a href=\"https://colab.research.google.com/github/AlvaFM/EDA_FundamentosML_AlvaroFlores/blob/main/Untitled5.ipynb\" target=\"_parent\"><img src=\"https://colab.research.google.com/assets/colab-badge.svg\" alt=\"Open In Colab\"/></a>"
      ]
    },
    {
      "cell_type": "code",
      "execution_count": 19,
      "metadata": {
        "colab": {
          "base_uri": "https://localhost:8080/"
        },
        "id": "B0vhBxJnS-rR",
        "outputId": "d28177f2-f7a0-4ea5-dbb1-aec66d4000a0"
      },
      "outputs": [
        {
          "output_type": "stream",
          "name": "stdout",
          "text": [
            "  InvoiceNo StockCode                          Description  Quantity  \\\n",
            "0    536365    85123A   WHITE HANGING HEART T-LIGHT HOLDER         6   \n",
            "1    536365     71053                  WHITE METAL LANTERN         6   \n",
            "2    536365    84406B       CREAM CUPID HEARTS COAT HANGER         8   \n",
            "3    536365    84029G  KNITTED UNION FLAG HOT WATER BOTTLE         6   \n",
            "4    536365    84029E       RED WOOLLY HOTTIE WHITE HEART.         6   \n",
            "\n",
            "      InvoiceDate  UnitPrice  CustomerID         Country  \n",
            "0  12/1/2010 8:26       2.55     17850.0  United Kingdom  \n",
            "1  12/1/2010 8:26       3.39     17850.0  United Kingdom  \n",
            "2  12/1/2010 8:26       2.75     17850.0  United Kingdom  \n",
            "3  12/1/2010 8:26       3.39     17850.0  United Kingdom  \n",
            "4  12/1/2010 8:26       3.39     17850.0  United Kingdom  \n"
          ]
        }
      ],
      "source": [
        "import pandas as pd\n",
        "\n",
        "# Cargar el archivo correcto\n",
        "df = pd.read_csv(\"data.csv\", encoding=\"ISO-8859-1\")\n",
        "\n",
        "# Mostrar las primeras filas\n",
        "print(df.head())\n"
      ]
    },
    {
      "cell_type": "code",
      "source": [
        "df.head()"
      ],
      "metadata": {
        "colab": {
          "base_uri": "https://localhost:8080/",
          "height": 293
        },
        "id": "JBI8FUCYcmeA",
        "outputId": "4d7ab146-2f4d-4110-9bde-d6397cae3677"
      },
      "execution_count": 20,
      "outputs": [
        {
          "output_type": "execute_result",
          "data": {
            "text/plain": [
              "  InvoiceNo StockCode                          Description  Quantity  \\\n",
              "0    536365    85123A   WHITE HANGING HEART T-LIGHT HOLDER         6   \n",
              "1    536365     71053                  WHITE METAL LANTERN         6   \n",
              "2    536365    84406B       CREAM CUPID HEARTS COAT HANGER         8   \n",
              "3    536365    84029G  KNITTED UNION FLAG HOT WATER BOTTLE         6   \n",
              "4    536365    84029E       RED WOOLLY HOTTIE WHITE HEART.         6   \n",
              "\n",
              "      InvoiceDate  UnitPrice  CustomerID         Country  \n",
              "0  12/1/2010 8:26       2.55     17850.0  United Kingdom  \n",
              "1  12/1/2010 8:26       3.39     17850.0  United Kingdom  \n",
              "2  12/1/2010 8:26       2.75     17850.0  United Kingdom  \n",
              "3  12/1/2010 8:26       3.39     17850.0  United Kingdom  \n",
              "4  12/1/2010 8:26       3.39     17850.0  United Kingdom  "
            ],
            "text/html": [
              "\n",
              "  <div id=\"df-74330edb-2844-49ac-9b26-5bed8faad2f8\" class=\"colab-df-container\">\n",
              "    <div>\n",
              "<style scoped>\n",
              "    .dataframe tbody tr th:only-of-type {\n",
              "        vertical-align: middle;\n",
              "    }\n",
              "\n",
              "    .dataframe tbody tr th {\n",
              "        vertical-align: top;\n",
              "    }\n",
              "\n",
              "    .dataframe thead th {\n",
              "        text-align: right;\n",
              "    }\n",
              "</style>\n",
              "<table border=\"1\" class=\"dataframe\">\n",
              "  <thead>\n",
              "    <tr style=\"text-align: right;\">\n",
              "      <th></th>\n",
              "      <th>InvoiceNo</th>\n",
              "      <th>StockCode</th>\n",
              "      <th>Description</th>\n",
              "      <th>Quantity</th>\n",
              "      <th>InvoiceDate</th>\n",
              "      <th>UnitPrice</th>\n",
              "      <th>CustomerID</th>\n",
              "      <th>Country</th>\n",
              "    </tr>\n",
              "  </thead>\n",
              "  <tbody>\n",
              "    <tr>\n",
              "      <th>0</th>\n",
              "      <td>536365</td>\n",
              "      <td>85123A</td>\n",
              "      <td>WHITE HANGING HEART T-LIGHT HOLDER</td>\n",
              "      <td>6</td>\n",
              "      <td>12/1/2010 8:26</td>\n",
              "      <td>2.55</td>\n",
              "      <td>17850.0</td>\n",
              "      <td>United Kingdom</td>\n",
              "    </tr>\n",
              "    <tr>\n",
              "      <th>1</th>\n",
              "      <td>536365</td>\n",
              "      <td>71053</td>\n",
              "      <td>WHITE METAL LANTERN</td>\n",
              "      <td>6</td>\n",
              "      <td>12/1/2010 8:26</td>\n",
              "      <td>3.39</td>\n",
              "      <td>17850.0</td>\n",
              "      <td>United Kingdom</td>\n",
              "    </tr>\n",
              "    <tr>\n",
              "      <th>2</th>\n",
              "      <td>536365</td>\n",
              "      <td>84406B</td>\n",
              "      <td>CREAM CUPID HEARTS COAT HANGER</td>\n",
              "      <td>8</td>\n",
              "      <td>12/1/2010 8:26</td>\n",
              "      <td>2.75</td>\n",
              "      <td>17850.0</td>\n",
              "      <td>United Kingdom</td>\n",
              "    </tr>\n",
              "    <tr>\n",
              "      <th>3</th>\n",
              "      <td>536365</td>\n",
              "      <td>84029G</td>\n",
              "      <td>KNITTED UNION FLAG HOT WATER BOTTLE</td>\n",
              "      <td>6</td>\n",
              "      <td>12/1/2010 8:26</td>\n",
              "      <td>3.39</td>\n",
              "      <td>17850.0</td>\n",
              "      <td>United Kingdom</td>\n",
              "    </tr>\n",
              "    <tr>\n",
              "      <th>4</th>\n",
              "      <td>536365</td>\n",
              "      <td>84029E</td>\n",
              "      <td>RED WOOLLY HOTTIE WHITE HEART.</td>\n",
              "      <td>6</td>\n",
              "      <td>12/1/2010 8:26</td>\n",
              "      <td>3.39</td>\n",
              "      <td>17850.0</td>\n",
              "      <td>United Kingdom</td>\n",
              "    </tr>\n",
              "  </tbody>\n",
              "</table>\n",
              "</div>\n",
              "    <div class=\"colab-df-buttons\">\n",
              "\n",
              "  <div class=\"colab-df-container\">\n",
              "    <button class=\"colab-df-convert\" onclick=\"convertToInteractive('df-74330edb-2844-49ac-9b26-5bed8faad2f8')\"\n",
              "            title=\"Convert this dataframe to an interactive table.\"\n",
              "            style=\"display:none;\">\n",
              "\n",
              "  <svg xmlns=\"http://www.w3.org/2000/svg\" height=\"24px\" viewBox=\"0 -960 960 960\">\n",
              "    <path d=\"M120-120v-720h720v720H120Zm60-500h600v-160H180v160Zm220 220h160v-160H400v160Zm0 220h160v-160H400v160ZM180-400h160v-160H180v160Zm440 0h160v-160H620v160ZM180-180h160v-160H180v160Zm440 0h160v-160H620v160Z\"/>\n",
              "  </svg>\n",
              "    </button>\n",
              "\n",
              "  <style>\n",
              "    .colab-df-container {\n",
              "      display:flex;\n",
              "      gap: 12px;\n",
              "    }\n",
              "\n",
              "    .colab-df-convert {\n",
              "      background-color: #E8F0FE;\n",
              "      border: none;\n",
              "      border-radius: 50%;\n",
              "      cursor: pointer;\n",
              "      display: none;\n",
              "      fill: #1967D2;\n",
              "      height: 32px;\n",
              "      padding: 0 0 0 0;\n",
              "      width: 32px;\n",
              "    }\n",
              "\n",
              "    .colab-df-convert:hover {\n",
              "      background-color: #E2EBFA;\n",
              "      box-shadow: 0px 1px 2px rgba(60, 64, 67, 0.3), 0px 1px 3px 1px rgba(60, 64, 67, 0.15);\n",
              "      fill: #174EA6;\n",
              "    }\n",
              "\n",
              "    .colab-df-buttons div {\n",
              "      margin-bottom: 4px;\n",
              "    }\n",
              "\n",
              "    [theme=dark] .colab-df-convert {\n",
              "      background-color: #3B4455;\n",
              "      fill: #D2E3FC;\n",
              "    }\n",
              "\n",
              "    [theme=dark] .colab-df-convert:hover {\n",
              "      background-color: #434B5C;\n",
              "      box-shadow: 0px 1px 3px 1px rgba(0, 0, 0, 0.15);\n",
              "      filter: drop-shadow(0px 1px 2px rgba(0, 0, 0, 0.3));\n",
              "      fill: #FFFFFF;\n",
              "    }\n",
              "  </style>\n",
              "\n",
              "    <script>\n",
              "      const buttonEl =\n",
              "        document.querySelector('#df-74330edb-2844-49ac-9b26-5bed8faad2f8 button.colab-df-convert');\n",
              "      buttonEl.style.display =\n",
              "        google.colab.kernel.accessAllowed ? 'block' : 'none';\n",
              "\n",
              "      async function convertToInteractive(key) {\n",
              "        const element = document.querySelector('#df-74330edb-2844-49ac-9b26-5bed8faad2f8');\n",
              "        const dataTable =\n",
              "          await google.colab.kernel.invokeFunction('convertToInteractive',\n",
              "                                                    [key], {});\n",
              "        if (!dataTable) return;\n",
              "\n",
              "        const docLinkHtml = 'Like what you see? Visit the ' +\n",
              "          '<a target=\"_blank\" href=https://colab.research.google.com/notebooks/data_table.ipynb>data table notebook</a>'\n",
              "          + ' to learn more about interactive tables.';\n",
              "        element.innerHTML = '';\n",
              "        dataTable['output_type'] = 'display_data';\n",
              "        await google.colab.output.renderOutput(dataTable, element);\n",
              "        const docLink = document.createElement('div');\n",
              "        docLink.innerHTML = docLinkHtml;\n",
              "        element.appendChild(docLink);\n",
              "      }\n",
              "    </script>\n",
              "  </div>\n",
              "\n",
              "\n",
              "<div id=\"df-a0b60504-63e5-41bc-b89c-1d97aa2bb995\">\n",
              "  <button class=\"colab-df-quickchart\" onclick=\"quickchart('df-a0b60504-63e5-41bc-b89c-1d97aa2bb995')\"\n",
              "            title=\"Suggest charts\"\n",
              "            style=\"display:none;\">\n",
              "\n",
              "<svg xmlns=\"http://www.w3.org/2000/svg\" height=\"24px\"viewBox=\"0 0 24 24\"\n",
              "     width=\"24px\">\n",
              "    <g>\n",
              "        <path d=\"M19 3H5c-1.1 0-2 .9-2 2v14c0 1.1.9 2 2 2h14c1.1 0 2-.9 2-2V5c0-1.1-.9-2-2-2zM9 17H7v-7h2v7zm4 0h-2V7h2v10zm4 0h-2v-4h2v4z\"/>\n",
              "    </g>\n",
              "</svg>\n",
              "  </button>\n",
              "\n",
              "<style>\n",
              "  .colab-df-quickchart {\n",
              "      --bg-color: #E8F0FE;\n",
              "      --fill-color: #1967D2;\n",
              "      --hover-bg-color: #E2EBFA;\n",
              "      --hover-fill-color: #174EA6;\n",
              "      --disabled-fill-color: #AAA;\n",
              "      --disabled-bg-color: #DDD;\n",
              "  }\n",
              "\n",
              "  [theme=dark] .colab-df-quickchart {\n",
              "      --bg-color: #3B4455;\n",
              "      --fill-color: #D2E3FC;\n",
              "      --hover-bg-color: #434B5C;\n",
              "      --hover-fill-color: #FFFFFF;\n",
              "      --disabled-bg-color: #3B4455;\n",
              "      --disabled-fill-color: #666;\n",
              "  }\n",
              "\n",
              "  .colab-df-quickchart {\n",
              "    background-color: var(--bg-color);\n",
              "    border: none;\n",
              "    border-radius: 50%;\n",
              "    cursor: pointer;\n",
              "    display: none;\n",
              "    fill: var(--fill-color);\n",
              "    height: 32px;\n",
              "    padding: 0;\n",
              "    width: 32px;\n",
              "  }\n",
              "\n",
              "  .colab-df-quickchart:hover {\n",
              "    background-color: var(--hover-bg-color);\n",
              "    box-shadow: 0 1px 2px rgba(60, 64, 67, 0.3), 0 1px 3px 1px rgba(60, 64, 67, 0.15);\n",
              "    fill: var(--button-hover-fill-color);\n",
              "  }\n",
              "\n",
              "  .colab-df-quickchart-complete:disabled,\n",
              "  .colab-df-quickchart-complete:disabled:hover {\n",
              "    background-color: var(--disabled-bg-color);\n",
              "    fill: var(--disabled-fill-color);\n",
              "    box-shadow: none;\n",
              "  }\n",
              "\n",
              "  .colab-df-spinner {\n",
              "    border: 2px solid var(--fill-color);\n",
              "    border-color: transparent;\n",
              "    border-bottom-color: var(--fill-color);\n",
              "    animation:\n",
              "      spin 1s steps(1) infinite;\n",
              "  }\n",
              "\n",
              "  @keyframes spin {\n",
              "    0% {\n",
              "      border-color: transparent;\n",
              "      border-bottom-color: var(--fill-color);\n",
              "      border-left-color: var(--fill-color);\n",
              "    }\n",
              "    20% {\n",
              "      border-color: transparent;\n",
              "      border-left-color: var(--fill-color);\n",
              "      border-top-color: var(--fill-color);\n",
              "    }\n",
              "    30% {\n",
              "      border-color: transparent;\n",
              "      border-left-color: var(--fill-color);\n",
              "      border-top-color: var(--fill-color);\n",
              "      border-right-color: var(--fill-color);\n",
              "    }\n",
              "    40% {\n",
              "      border-color: transparent;\n",
              "      border-right-color: var(--fill-color);\n",
              "      border-top-color: var(--fill-color);\n",
              "    }\n",
              "    60% {\n",
              "      border-color: transparent;\n",
              "      border-right-color: var(--fill-color);\n",
              "    }\n",
              "    80% {\n",
              "      border-color: transparent;\n",
              "      border-right-color: var(--fill-color);\n",
              "      border-bottom-color: var(--fill-color);\n",
              "    }\n",
              "    90% {\n",
              "      border-color: transparent;\n",
              "      border-bottom-color: var(--fill-color);\n",
              "    }\n",
              "  }\n",
              "</style>\n",
              "\n",
              "  <script>\n",
              "    async function quickchart(key) {\n",
              "      const quickchartButtonEl =\n",
              "        document.querySelector('#' + key + ' button');\n",
              "      quickchartButtonEl.disabled = true;  // To prevent multiple clicks.\n",
              "      quickchartButtonEl.classList.add('colab-df-spinner');\n",
              "      try {\n",
              "        const charts = await google.colab.kernel.invokeFunction(\n",
              "            'suggestCharts', [key], {});\n",
              "      } catch (error) {\n",
              "        console.error('Error during call to suggestCharts:', error);\n",
              "      }\n",
              "      quickchartButtonEl.classList.remove('colab-df-spinner');\n",
              "      quickchartButtonEl.classList.add('colab-df-quickchart-complete');\n",
              "    }\n",
              "    (() => {\n",
              "      let quickchartButtonEl =\n",
              "        document.querySelector('#df-a0b60504-63e5-41bc-b89c-1d97aa2bb995 button');\n",
              "      quickchartButtonEl.style.display =\n",
              "        google.colab.kernel.accessAllowed ? 'block' : 'none';\n",
              "    })();\n",
              "  </script>\n",
              "</div>\n",
              "\n",
              "    </div>\n",
              "  </div>\n"
            ],
            "application/vnd.google.colaboratory.intrinsic+json": {
              "type": "dataframe",
              "variable_name": "df"
            }
          },
          "metadata": {},
          "execution_count": 20
        }
      ]
    },
    {
      "cell_type": "markdown",
      "source": [
        "Parte 1 ANALISIS DATASET"
      ],
      "metadata": {
        "id": "gkcAh6AxUmAY"
      }
    },
    {
      "cell_type": "code",
      "source": [
        "# Ver las primeras filas del dataset\n",
        "print(\"📌 Primeras 5 filas del dataset:\")\n",
        "print(df.head())\n",
        "\n",
        "# Información general del dataset\n",
        "print(\"\\n📌 Información general del dataset:\")\n",
        "print(df.info())\n",
        "\n",
        "# Ver el tipo de datos de cada columna\n",
        "print(\"\\n📌 Tipos de datos en cada columna:\")\n",
        "print(df.dtypes)\n",
        "\n",
        "# Ver si hay valores nulos en cada columna\n",
        "print(\"\\n📌 Cantidad de valores nulos por columna:\")\n",
        "print(df.isnull().sum())\n",
        "\n",
        "# Ver si hay valores duplicados en el dataset\n",
        "print(\"\\n📌 Cantidad de filas duplicadas en el dataset:\")\n",
        "print(df.duplicated().sum())\n"
      ],
      "metadata": {
        "colab": {
          "base_uri": "https://localhost:8080/"
        },
        "id": "NmAp6K2rUotH",
        "outputId": "92c658a5-26c6-4d7b-aa00-7fa89c8516e9"
      },
      "execution_count": 11,
      "outputs": [
        {
          "output_type": "stream",
          "name": "stdout",
          "text": [
            "📌 Primeras 5 filas del dataset:\n",
            "  InvoiceNo StockCode                          Description  Quantity  \\\n",
            "0    536365    85123A   WHITE HANGING HEART T-LIGHT HOLDER         6   \n",
            "1    536365     71053                  WHITE METAL LANTERN         6   \n",
            "2    536365    84406B       CREAM CUPID HEARTS COAT HANGER         8   \n",
            "3    536365    84029G  KNITTED UNION FLAG HOT WATER BOTTLE         6   \n",
            "4    536365    84029E       RED WOOLLY HOTTIE WHITE HEART.         6   \n",
            "\n",
            "      InvoiceDate  UnitPrice  CustomerID         Country  \n",
            "0  12/1/2010 8:26       2.55     17850.0  United Kingdom  \n",
            "1  12/1/2010 8:26       3.39     17850.0  United Kingdom  \n",
            "2  12/1/2010 8:26       2.75     17850.0  United Kingdom  \n",
            "3  12/1/2010 8:26       3.39     17850.0  United Kingdom  \n",
            "4  12/1/2010 8:26       3.39     17850.0  United Kingdom  \n",
            "\n",
            "📌 Información general del dataset:\n",
            "<class 'pandas.core.frame.DataFrame'>\n",
            "RangeIndex: 541909 entries, 0 to 541908\n",
            "Data columns (total 8 columns):\n",
            " #   Column       Non-Null Count   Dtype  \n",
            "---  ------       --------------   -----  \n",
            " 0   InvoiceNo    541909 non-null  object \n",
            " 1   StockCode    541909 non-null  object \n",
            " 2   Description  540455 non-null  object \n",
            " 3   Quantity     541909 non-null  int64  \n",
            " 4   InvoiceDate  541909 non-null  object \n",
            " 5   UnitPrice    541909 non-null  float64\n",
            " 6   CustomerID   406829 non-null  float64\n",
            " 7   Country      541909 non-null  object \n",
            "dtypes: float64(2), int64(1), object(5)\n",
            "memory usage: 33.1+ MB\n",
            "None\n",
            "\n",
            "📌 Tipos de datos en cada columna:\n",
            "InvoiceNo       object\n",
            "StockCode       object\n",
            "Description     object\n",
            "Quantity         int64\n",
            "InvoiceDate     object\n",
            "UnitPrice      float64\n",
            "CustomerID     float64\n",
            "Country         object\n",
            "dtype: object\n",
            "\n",
            "📌 Cantidad de valores nulos por columna:\n",
            "InvoiceNo           0\n",
            "StockCode           0\n",
            "Description      1454\n",
            "Quantity            0\n",
            "InvoiceDate         0\n",
            "UnitPrice           0\n",
            "CustomerID     135080\n",
            "Country             0\n",
            "dtype: int64\n",
            "\n",
            "📌 Cantidad de filas duplicadas en el dataset:\n",
            "5268\n"
          ]
        }
      ]
    },
    {
      "cell_type": "markdown",
      "source": [
        "En base a esta informacion puedo afirmar que el dataset contiene un total\n",
        "541.909 registros y 9 columnas de las cuales encontramos diferentes variables como variables de categoria InvoiceNo, StockCode, Description, Country\n",
        "Variables Numericas Quantity, Unitprice, CustomerId\n",
        "Cabe recalcar que en la columna Description se encuentra un total de  1454 datos nulos y en CustomerID un total de 135080... Tambien se puede observar un total de 5268 filas duplicadas\n",
        "Esto bien puede sugerir que :\n",
        "1 Existen transacciones sin identificacion de cliente\n",
        "2 Algunos productos no tienen descripcion registrada\n",
        "3 La presencia de filas duplicadas indica que podría haber registros repetidos de transacciones, lo que podría sesgar ciertos análisis si no se manejan adecuadamente."
      ],
      "metadata": {
        "id": "7QX1rqF7Vcyj"
      }
    },
    {
      "cell_type": "markdown",
      "source": [
        "PARTE 2 Medidas de tendencia central y dispersión"
      ],
      "metadata": {
        "id": "LLZB8h8jXx5g"
      }
    },
    {
      "cell_type": "code",
      "source": [
        "# Calcular estadísticas descriptivas\n",
        "print(df.describe())\n",
        "\n",
        "# Assuming 'UnitPrice' is the correct column representing price\n",
        "# Media, mediana y moda de la variable \"UnitPrice\"\n",
        "print(\"Media:\", df[\"UnitPrice\"].mean())\n",
        "print(\"Mediana:\", df[\"UnitPrice\"].median())\n",
        "print(\"Moda:\", df[\"UnitPrice\"].mode()[0])\n",
        "\n",
        "# Desviación estándar y rango\n",
        "print(\"Desviación estándar:\", df[\"UnitPrice\"].std())\n",
        "print(\"Rango:\", df[\"UnitPrice\"].max() - df[\"UnitPrice\"].min())\n"
      ],
      "metadata": {
        "colab": {
          "base_uri": "https://localhost:8080/"
        },
        "id": "5r-lkuiYXNSz",
        "outputId": "f03bb06a-bd7d-42b7-fd5b-98ca5d04d2c6"
      },
      "execution_count": 14,
      "outputs": [
        {
          "output_type": "stream",
          "name": "stdout",
          "text": [
            "            Quantity      UnitPrice     CustomerID\n",
            "count  541909.000000  541909.000000  406829.000000\n",
            "mean        9.552250       4.611114   15287.690570\n",
            "std       218.081158      96.759853    1713.600303\n",
            "min    -80995.000000  -11062.060000   12346.000000\n",
            "25%         1.000000       1.250000   13953.000000\n",
            "50%         3.000000       2.080000   15152.000000\n",
            "75%        10.000000       4.130000   16791.000000\n",
            "max     80995.000000   38970.000000   18287.000000\n",
            "Media: 4.611113626088513\n",
            "Mediana: 2.08\n",
            "Moda: 1.25\n",
            "Desviación estándar: 96.75985306119716\n",
            "Rango: 50032.06\n"
          ]
        }
      ]
    },
    {
      "cell_type": "markdown",
      "source": [
        "\n",
        "ANALISIS DE Quantity"
      ],
      "metadata": {
        "id": "YJ_JerE3Z4PP"
      }
    },
    {
      "cell_type": "markdown",
      "source": [
        "Con estos datos puedo inferir que la media de 9.5 en Quantity indica que los clientes compran alrededor que 10 productos por transaccion.\n",
        "\n",
        "Aunque segun la desviacion estandar, la cual es muy alta (218.08) hay una variabilidad en las cantidades compradas."
      ],
      "metadata": {
        "id": "a9yZThQmYIB3"
      }
    },
    {
      "cell_type": "markdown",
      "source": [
        "Tambien puedo observar valores negativos (-80.995) lo cual puede indicar  hubo errores de registro o bien tambien se podria Decir que hubo devoluciones"
      ],
      "metadata": {
        "id": "j0m5ZNnoZPwC"
      }
    },
    {
      "cell_type": "markdown",
      "source": [
        "Con el maximo de  80995 podemos decir que hubo grandes pedidos al por mayor"
      ],
      "metadata": {
        "id": "iXUCQvq0Znba"
      }
    },
    {
      "cell_type": "markdown",
      "source": [
        "ANALISIS DE UnitPrice"
      ],
      "metadata": {
        "id": "ZZxZ0P5gaBLZ"
      }
    },
    {
      "cell_type": "markdown",
      "source": [
        "El precio promedio es de 4.61 junto con su desviacion estandar es de 96.76 lo cual indica una alta variabilidad en los precios"
      ],
      "metadata": {
        "id": "KP4GigcZaFaW"
      }
    },
    {
      "cell_type": "markdown",
      "source": [
        "La moda es de 1.25 lo cual indica que es su mayoria los productos comparten un mismo precio"
      ],
      "metadata": {
        "id": "ygSV96QraqDB"
      }
    },
    {
      "cell_type": "markdown",
      "source": [
        "ANALISIS DE CUSTOMERID"
      ],
      "metadata": {
        "id": "5oMRJhRea9oc"
      }
    },
    {
      "cell_type": "markdown",
      "source": [
        "Hay 406,829 datos nulos lo que confirma que 135,080 transacciones no fueron registradas"
      ],
      "metadata": {
        "id": "euPjE-qSbBgO"
      }
    },
    {
      "cell_type": "code",
      "source": [
        "import seaborn as sns\n",
        "import matplotlib.pyplot as plt\n",
        "import numpy as np\n",
        "\n",
        "# Filtrar valores negativos y ceros\n",
        "df_filtrado = df[df[\"UnitPrice\"] > 0]\n",
        "\n",
        "# Agregar un filtro para eliminar precios extremadamente bajos (Ej: menores a 0.1)\n",
        "df_filtrado = df_filtrado[df_filtrado[\"UnitPrice\"] > 0.1]\n",
        "\n",
        "# Histograma con escala logarítmica\n",
        "plt.figure(figsize=(10,5))\n",
        "sns.histplot(df_filtrado[\"UnitPrice\"], bins=50, kde=True)\n",
        "plt.xscale(\"log\")  # Aplicamos escala logarítmica\n",
        "plt.title(\"Distribución de precios (Escala logarítmica)\")\n",
        "plt.show()\n",
        "\n",
        "# Boxplot sin valores muy pequeños\n",
        "plt.figure(figsize=(10,5))\n",
        "sns.boxplot(x=df_filtrado[\"UnitPrice\"])\n",
        "plt.xscale(\"log\")  # Aplicamos escala logarítmica\n",
        "plt.title(\"Boxplot de precios (Escala logarítmica)\")\n",
        "plt.show()\n"
      ],
      "metadata": {
        "colab": {
          "base_uri": "https://localhost:8080/",
          "height": 967
        },
        "id": "LCtUnrF5eRzz",
        "outputId": "141592b1-58f0-457b-95f1-2efc2507a489"
      },
      "execution_count": 3,
      "outputs": [
        {
          "output_type": "display_data",
          "data": {
            "text/plain": [
              "<Figure size 1000x500 with 1 Axes>"
            ],
            "image/png": "[encoded data removed]"
          },
          "metadata": {}
        },
        {
          "output_type": "display_data",
          "data": {
            "text/plain": [
              "<Figure size 1000x500 with 1 Axes>"
            ],
            "image/png": "[encoded data removed]"
          },
          "metadata": {}
        }
      ]
    },
    {
      "cell_type": "markdown",
      "source": [
        "Con la obervacion del actual grafico puedo inferir que hay una gran cantidad de productos con precios muy bajos y una pequeña cantidad de productos de con precio alto, si bien puede ser un error de la base de datos tambien se puede pegar a la idea de los datos nulos no registrados"
      ],
      "metadata": {
        "id": "e4qX-jjJfYgI"
      }
    },
    {
      "cell_type": "markdown",
      "source": [],
      "metadata": {
        "id": "GwBNsb9vfYVa"
      }
    }
  ]
}